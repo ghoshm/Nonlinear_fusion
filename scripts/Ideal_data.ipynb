{
 "cells": [
  {
   "attachments": {},
   "cell_type": "markdown",
   "metadata": {},
   "source": [
    "# Imports"
   ]
  },
  {
   "cell_type": "code",
   "execution_count": null,
   "metadata": {},
   "outputs": [],
   "source": [
    "from multisensory import (\n",
    "    ClassicalTask,\n",
    "    BalancedComodulationTask,\n",
    "    DetectionTask,\n",
    "    MAPClassifier,\n",
    ")\n",
    "import pickle\n",
    "from pathlib import Path\n",
    "\n",
    "root = Path(\".\")\n",
    "save_path = root / \"ideal_data\"\n"
   ]
  },
  {
   "attachments": {},
   "cell_type": "markdown",
   "metadata": {},
   "source": [
    "# Hyperparameters"
   ]
  },
  {
   "cell_type": "code",
   "execution_count": null,
   "metadata": {},
   "outputs": [],
   "source": [
    "# Tasks\n",
    "tasks = [\n",
    "    ClassicalTask(s=0.1),\n",
    "    DetectionTask(pm=2 / 3, pe=0.3, pc=0.28, pn=1 / 3, pi=0.01),  # dense\n",
    "    DetectionTask(pm=2 / 3, pe=0.057, pc=0.95, pn=1 / 3, pi=0.01),  # sparse\n",
    "    BalancedComodulationTask(s=0.2),\n",
    "]\n",
    "task_keys = [\"classical\", \"detection_dense\", \"detection_sparse\", \"comod+\"]\n",
    "nb_trials = 100000\n",
    "nb_steps = 90\n",
    "\n",
    "classifier_type = MAPClassifier\n",
    "pairs = True  # FtA\n"
   ]
  },
  {
   "attachments": {},
   "cell_type": "markdown",
   "metadata": {},
   "source": [
    "# Analysis"
   ]
  },
  {
   "cell_type": "code",
   "execution_count": null,
   "metadata": {},
   "outputs": [],
   "source": [
    "ideal_dict = {}\n",
    "for a, task in enumerate(tasks):\n",
    "    classifier = classifier_type(task, pairs=pairs)\n",
    "    trials_prior = task.generate_trials(nb_trials, nb_steps)\n",
    "    trials = task.generate_trials(nb_trials, nb_steps)\n",
    "    trials.M = trials_prior.M\n",
    "\n",
    "    accs_tmp = []\n",
    "    for nb_step in range(nb_steps):\n",
    "        trials.A = trials_prior.A[:, :nb_step]\n",
    "        trials.V = trials_prior.V[:, :nb_step]\n",
    "        res = classifier.test(trials)\n",
    "        accs_tmp.append(res.accuracy)\n",
    "\n",
    "    ideal_dict[task_keys[a]] = accs_tmp\n",
    "\n",
    "outfile = open(save_path, \"wb\")\n",
    "pickle.dump(ideal_dict, outfile)\n",
    "outfile.close()\n"
   ]
  }
 ],
 "metadata": {
  "kernelspec": {
   "display_name": "SpyTorch",
   "language": "python",
   "name": "python3"
  },
  "language_info": {
   "codemirror_mode": {
    "name": "ipython",
    "version": 3
   },
   "file_extension": ".py",
   "mimetype": "text/x-python",
   "name": "python",
   "nbconvert_exporter": "python",
   "pygments_lexer": "ipython3",
   "version": "3.8.8"
  },
  "orig_nbformat": 4
 },
 "nbformat": 4,
 "nbformat_minor": 2
}
